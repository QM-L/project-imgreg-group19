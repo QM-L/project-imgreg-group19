{
 "cells": [
  {
   "cell_type": "code",
   "execution_count": 2,
   "metadata": {},
   "outputs": [
    {
     "name": "stdout",
     "output_type": "stream",
     "text": [
      "The autoreload extension is already loaded. To reload it, use:\n",
      "  %reload_ext autoreload\n",
      "The line_profiler extension is already loaded. To reload it, use:\n",
      "  %reload_ext line_profiler\n"
     ]
    }
   ],
   "source": [
    "### import and initialize modules ###\n",
    "%load_ext autoreload\n",
    "%autoreload 2\n",
    "\n",
    "%matplotlib inline\n",
    "# ! if you want to use this, run  'conda install -c conda-forge scalene' for your conda env\n",
    "#%load_ext scalene \n",
    "# ! Or 'conda install -c conda-forge line_profiler' for this one.\n",
    "%load_ext line_profiler\n",
    "import sys\n",
    "sys.path.append(\"../code\")\n",
    "import numpy as np\n",
    "import pandas as pd # You might have to install this into your environment\n",
    "import scipy.stats as stats \n",
    "from registration_project import rigid_reg_cc_demo, affine_reg_cc_demo, affine_reg_mi_demo"
   ]
  },
  {
   "cell_type": "code",
   "execution_count": 12,
   "metadata": {},
   "outputs": [],
   "source": [
    "### import and read data ###\n",
    "path = 'source\\data\\image_data'\n",
    "\n"
   ]
  },
  {
   "cell_type": "code",
   "execution_count": 13,
   "metadata": {},
   "outputs": [
    {
     "name": "stdout",
     "output_type": "stream",
     "text": [
      "Final similarity of ca. 0.9299874408059998\n"
     ]
    },
    {
     "name": "stdout",
     "output_type": "stream",
     "text": [
      "Timer unit: 1e-07 s\n",
      "\n",
      "Total time: 22.907 s\n",
      "File: c:\\Users\\quint\\Downloads\\assignments\\project-imgreg-group19\\source\\reader\\../code\\registration_project.py\n",
      "Function: affine_reg_cc_demo at line 104\n",
      "\n",
      "Line #      Hits         Time  Per Hit   % Time  Line Contents\n",
      "==============================================================\n",
      "   104                                           def affine_reg_cc_demo(img1,img2,imshow=False,num_iter=200, learning_rate=0.001):\n",
      "   105                                           \n",
      "   106                                               # read the fixed and moving images\n",
      "   107                                               # change these in order to read different images\n",
      "   108         1      26251.0  26251.0      0.0      I = plt.imread(img1)\n",
      "   109         1      28586.0  28586.0      0.0      Im = plt.imread(img2)\n",
      "   110                                           \n",
      "   111                                               # initial values for the parameters\n",
      "   112                                               # we start with the identity transformation\n",
      "   113                                               # most likely you will not have to change these\n",
      "   114         1         68.0     68.0      0.0      x = np.array([0., 1., 1., 0., 0. ,0. ,0.])\n",
      "   115                                               # NOTE: for affine registration you have to initialize\n",
      "   116                                               # more parameters and the scaling parameters should be\n",
      "   117                                               # initialized to 1 instead of 0\n",
      "   118                                           \n",
      "   119                                               # the similarity function\n",
      "   120                                               # this line of code in essence creates a version of rigid_corr()\n",
      "   121                                               # in which the first two input parameters (fixed and moving image)\n",
      "   122                                               # are fixed and the only remaining parameter is the vector x with the\n",
      "   123                                               # parameters of the transformation\n",
      "   124         1          6.0      6.0      0.0      fun = lambda x: reg.affine_corr(I, Im, x, return_transform=False)\n",
      "   125                                               # the learning rate\n",
      "   126         1          3.0      3.0      0.0      mu = learning_rate\n",
      "   127                                           \n",
      "   128                                               # number of iterations\n",
      "   129         1          2.0      2.0      0.0      num_iter = num_iter\n",
      "   130                                           \n",
      "   131         1         51.0     51.0      0.0      iterations = np.arange(1, num_iter+1)\n",
      "   132         1        228.0    228.0      0.0      similarity = np.full((num_iter, 1), np.nan)\n",
      "   133         1          3.0      3.0      0.0      if imshow:\n",
      "   134                                                   fig = plt.figure(figsize=(14,6))\n",
      "   135                                           \n",
      "   136                                                   # fixed and moving image, and parameters\n",
      "   137                                                   ax1 = fig.add_subplot(121)\n",
      "   138                                           \n",
      "   139                                                   # fixed image\n",
      "   140                                                   im1 = ax1.imshow(I)\n",
      "   141                                                   # moving image\n",
      "   142                                                   im2 = ax1.imshow(I, alpha=0.7)\n",
      "   143                                                   # parameters\n",
      "   144                                                   txt = ax1.text(0.3, 0.95,\n",
      "   145                                                       np.array2string(x, precision=5, floatmode='fixed'),\n",
      "   146                                                       bbox={'facecolor': 'white', 'alpha': 1, 'pad': 10},\n",
      "   147                                                       transform=ax1.transAxes)\n",
      "   148                                           \n",
      "   149                                                   # 'learning' curve\n",
      "   150                                                   ax2 = fig.add_subplot(122, xlim=(0, num_iter), ylim=(0, 1))\n",
      "   151                                           \n",
      "   152                                                   learning_curve, = ax2.plot(iterations, similarity, lw=2)\n",
      "   153                                                   ax2.set_xlabel('Iteration')\n",
      "   154                                                   ax2.set_ylabel('Similarity')\n",
      "   155                                                   ax2.grid()\n",
      "   156                                           \n",
      "   157                                               # perform 'num_iter' gradient ascent updates\n",
      "   158       201       3774.0     18.8      0.0      for k in np.arange(num_iter):\n",
      "   159                                                   # gradient ascent\n",
      "   160       200  214054466.0    1e+06     93.4          g = reg.ngradient(fun, x)\n",
      "   161       200      23097.0    115.5      0.0          x += g*mu\n",
      "   162                                                   \n",
      "   163                                                   # for visualization of the result\n",
      "   164       200   14920733.0  74603.7      6.5          S, Im_t, _ = reg.affine_corr(I, Im, x, return_transform=True)\n",
      "   165       200       1549.0      7.7      0.0          if imshow:\n",
      "   166                                                       clear_output(wait = True)\n",
      "   167                                           \n",
      "   168                                                       # update moving image and parameters\n",
      "   169                                                       im2.set_data(Im_t)\n",
      "   170                                                       txt.set_text(np.array2string(x, precision=5, floatmode='fixed'))\n",
      "   171                                           \n",
      "   172                                                       # update 'learning' curve\n",
      "   173                                                       similarity[k] = S\n",
      "   174                                                       learning_curve.set_ydata(similarity)\n",
      "   175                                           \n",
      "   176                                                       display(fig)\n",
      "   177       200       9924.0     49.6      0.0          similarity[k] = S  \n",
      "   178         1       1486.0   1486.0      0.0      print(f'Final similarity of ca. {S}')\n",
      "   179         1          4.0      4.0      0.0      return similarity"
     ]
    }
   ],
   "source": [
    "### Registration ###\n",
    "# We can proba\n",
    "%lprun -f affine_reg_cc_demo affine_reg_cc_demo(r\"../data/image_data/1_1_t1.tif\",r\"../data/image_data/1_1_t1_d.tif\",False) # example, but not applicable for current usage\n",
    "res = %timeit -o rigid_reg_cc_demo('../data/image_data/1_1_t1.tif','../data/image_data/1_1_t1_d.tif',False) # for the main registration problem"
   ]
  },
  {
   "cell_type": "code",
   "execution_count": 39,
   "metadata": {},
   "outputs": [],
   "source": [
    "# Test variables to test statistical analysis(assume dataset of 10)\n",
    "time_rigid = [64098,23249,0,0,57892,0,43897,0,0,0]\n",
    "time_affine = [0,0,98022,78923,0,298200,0,89023,67239,29870]\n",
    "time_rigid_all = [64098,23249,24798,58302,57892,42309,43897,28342,8902,78230]\n",
    "time_affine_all = [78934,57832,98022,78923,78923,298200,83450,89023,67239,29870]\n",
    "\n",
    "transformations = [[35,2.5,1.1,0.5,1,3,2],[12,1,2,1.6,1.1,0.3,4],[4,1.9,2.1,4,8,0,7],[2,1.2,1.4,2,3,1.5,1],[60,2.3,1.9,1.3,0.4,2,0],[34,1.4,2.2,6,3,0.4,0],[5,1,4.2,1.8,1.2,0.5,1.1],[0,2,1.2,0.3,0.1,1,1.7],[1,1,2.1,0.8,0.2,2,4],[9,1,1.2,0.8,0.2,2,2]]"
   ]
  },
  {
   "cell_type": "code",
   "execution_count": 28,
   "metadata": {},
   "outputs": [
    {
     "name": "stdout",
     "output_type": "stream",
     "text": [
      "Variance of comp. time for all rigid transformations:  424242879.89\n",
      "Variance of comp. time for all affine transformations:  4862675666.639999\n",
      "Variance of comp. time for the chosen transformations:  5570605978.410001\n",
      "t test affine_all>rigid_all:  Ttest_indResult(statistic=2.1883712672394346, pvalue=0.02103570283721172)\n",
      "t test affine_all>aggr:  Ttest_indResult(statistic=0.3230839013374063, pvalue=0.375177385807674)\n"
     ]
    },
    {
     "data": {
      "image/png": "[encoded data removed]",
      "text/plain": [
       "<Figure size 640x480 with 1 Axes>"
      ]
     },
     "metadata": {},
     "output_type": "display_data"
    }
   ],
   "source": [
    "### Statistical analysis ###\n",
    "# input: list of computation times per formula: rigid_cc_time, affine_cc_time, affine_mi_time --> no processing is done with this, these are nice-to-haves\n",
    "\n",
    "# input: list of computation times per type of registration: time_rigid, time_affine, time_rigid_all, time_affine_all\n",
    "# input: list of affine transformation matrices per registration: transformations (rot, scalex, scaley, shearx, sheary, translatex, translatey)\n",
    "\n",
    "# output: significance testing between the types of registration\n",
    "# output: power analysis of significance testing\n",
    "# output: Boxplots for the computation time data spread\n",
    "\n",
    "\n",
    "aggr_rigid_affine = [time_rigid[i]+time_affine[i] for i in range(len(time_rigid))] # List containing all tests, containing the time using our chosen method\n",
    "data = np.hstack((time_rigid, time_affine, aggr_rigid_affine, time_rigid_all, time_affine_all))\n",
    "df_time = pd.DataFrame({'T_rigid': time_rigid,\n",
    "                        'T_affine': time_affine,\n",
    "                        'T_aggr_all': aggr_rigid_affine,\n",
    "                        'T_rigid_all': time_rigid_all,\n",
    "                        'T_affine_all': time_affine_all})\n",
    "box = df_time.boxplot(grid=True)\n",
    "box.plot(figsize=(1,3), title=\"Boxplot of computation time of rigid and affine transformation registration\")\n",
    "\n",
    "# Test for equal variance\n",
    "print(\"Variance of comp. time for all rigid transformations: \",np.var(a=df_time['T_rigid_all']))\n",
    "print(\"Variance of comp. time for all affine transformations: \",np.var(a=df_time['T_affine_all']))\n",
    "print(\"Variance of comp. time for the chosen transformations: \",np.var(a=df_time['T_aggr_all']))\n",
    "     \n",
    "\n",
    "# Variance vary less than factor 4:\n",
    "    # Test if the computation time to use affine transformation compared to rigid transformation is longer\n",
    "print(\"t test affine_all>rigid_all: \",stats.ttest_ind(a=df_time['T_affine_all'],b=df_time['T_rigid_all'], equal_var=True,alternative='greater')) \n",
    "\n",
    "    # Test if the aggregated computation time is shorter than all affine registration  \n",
    "print(\"t test affine_all>aggr: \",stats.ttest_ind(a=df_time['T_affine_all'],b=df_time['T_aggr_all'], equal_var=True,alternative='greater'))"
   ]
  },
  {
   "cell_type": "code",
   "execution_count": 82,
   "metadata": {},
   "outputs": [
    {
     "name": "stdout",
     "output_type": "stream",
     "text": [
      "Mean of all scaling:  1.735\n",
      "Mean of scaling of rigid:  1.9999999999999998\n",
      "Mean of scaling of affine:  1.5583333333333333\n",
      "Variance of all scaling:  0.5652749999999999\n",
      "Variance of scaling of rigid:  0.9999999999999998\n",
      "Variance of scaling of affine:  0.19743055555555558\n",
      "Mean of all shear:  1.8649999999999998\n",
      "Mean of shear of rigid:  1.1125\n",
      "Mean of shear of affine:  2.3666666666666667\n",
      "Variance of all shear:  4.072275\n",
      "Variance of shear of rigid:  0.20609375000000002\n",
      "Variance of shear of affine:  6.020555555555554\n"
     ]
    },
    {
     "data": {
      "image/png": "[encoded data removed]",
      "text/plain": [
       "<Figure size 500x500 with 1 Axes>"
      ]
     },
     "metadata": {},
     "output_type": "display_data"
    }
   ],
   "source": [
    "# See if our decision program is working well\n",
    "rigid_decision = np.array([True if time_rigid[i]>0 else False for i in range(len(time_rigid))]) # Records if rigid was chosen\n",
    "\n",
    "data2 = [rigid_decision]\n",
    "sum_affine = [transformations[i][1]+transformations[i][2]+transformations[i][3]+transformations[i][4] for i in range(len(transformations))]\n",
    "df_transform = pd.DataFrame({\"Decision\": rigid_decision,\n",
    "                             \"Sum_affine\": sum_affine})\n",
    "box2 = df_transform.plot.box(column=\"Sum_affine\",by=\"Decision\",figsize=(5,5)) # Boxplot that sums the affine parameters and groups them by our decision\n",
    "\n",
    "# Basic statistics of the average shear and scaling present \n",
    "    # Scaling\n",
    "print(\"Mean of all scaling: \",np.mean(np.array(transformations).reshape(10,6)[:,1:3]))\n",
    "print(\"Mean of scaling of rigid: \", np.mean(np.array(transformations).reshape(10,6)[rigid_decision,1:3]))\n",
    "print(\"Mean of scaling of affine: \", np.mean(np.array(transformations).reshape(10,6)[~rigid_decision,1:3]))\n",
    "\n",
    "print(\"Variance of all scaling: \",np.var(np.array(transformations).reshape(10,6)[:,1:3]))\n",
    "print(\"Variance of scaling of rigid: \", np.var(np.array(transformations).reshape(10,6)[rigid_decision,1:3]))\n",
    "print(\"Variance of scaling of affine: \", np.var(np.array(transformations).reshape(10,6)[~rigid_decision,1:3]))\n",
    "\n",
    "    #Shear\n",
    "print(\"Mean of all shear: \",np.mean(np.array(transformations).reshape(10,6)[:,3:5]))\n",
    "print(\"Mean of shear of rigid: \", np.mean(np.array(transformations).reshape(10,6)[rigid_decision,3:5]))\n",
    "print(\"Mean of shear of affine: \", np.mean(np.array(transformations).reshape(10,6)[~rigid_decision,3:5]))\n",
    "\n",
    "print(\"Variance of all shear: \",np.var(np.array(transformations).reshape(10,6)[:,3:5]))\n",
    "print(\"Variance of shear of rigid: \", np.var(np.array(transformations).reshape(10,6)[rigid_decision,3:5]))\n",
    "print(\"Variance of shear of affine: \", np.var(np.array(transformations).reshape(10,6)[~rigid_decision,3:5]))"
   ]
  }
 ],
 "metadata": {
  "kernelspec": {
   "display_name": "8dc00",
   "language": "python",
   "name": "python3"
  },
  "language_info": {
   "codemirror_mode": {
    "name": "ipython",
    "version": 3
   },
   "file_extension": ".py",
   "mimetype": "text/x-python",
   "name": "python",
   "nbconvert_exporter": "python",
   "pygments_lexer": "ipython3",
   "version": "3.8.19"
  }
 },
 "nbformat": 4,
 "nbformat_minor": 2
}
