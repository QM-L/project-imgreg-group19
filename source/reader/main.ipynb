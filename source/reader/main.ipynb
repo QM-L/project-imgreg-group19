{
 "cells": [
  {
   "cell_type": "code",
   "execution_count": 4,
   "metadata": {},
   "outputs": [
    {
     "name": "stdout",
     "output_type": "stream",
     "text": [
      "The autoreload extension is already loaded. To reload it, use:\n",
      "  %reload_ext autoreload\n",
      "The scalene extension is already loaded. To reload it, use:\n",
      "  %reload_ext scalene\n"
     ]
    }
   ],
   "source": [
    "### import and initialize modules ###\n",
    "%load_ext autoreload\n",
    "%autoreload 2\n",
    "\n",
    "%matplotlib inline\n",
    "# # if you want to use this, run  'conda install -c conda-forge scalene' for your conda env\n",
    "# %load_ext scalene \n",
    "%load_ext line_profiler\n",
    "import sys\n",
    "sys.path.append(\"source/code\")\n",
    "from registration_project import rigid_reg_cc_demo, affine_reg_cc_demo, affine_reg_mi_demo"
   ]
  },
  {
   "cell_type": "code",
   "execution_count": null,
   "metadata": {},
   "outputs": [],
   "source": [
    "### import and read data ###\n",
    "path = 'source\\data\\image_data'\n",
    "\n"
   ]
  },
  {
   "cell_type": "code",
   "execution_count": null,
   "metadata": {},
   "outputs": [],
   "source": [
    "### Registration ###\n",
    "# We can proba\n",
    "%lprun -f affine_reg_cc_demo affine_reg_cc_demo(r\"../data/image_data/1_1_t1.tif\",r\"../data/image_data/1_1_t1_d.tif\",False) # example"
   ]
  },
  {
   "cell_type": "code",
   "execution_count": null,
   "metadata": {},
   "outputs": [],
   "source": [
    "### Statistical analysis ###\n",
    "\n",
    "# input: list of computation times per type of registration\n",
    "# input: list of computation times per formula\n",
    "\n",
    "# output: significance testing between the types of registration\n",
    "# output: power analysis of significance testing\n"
   ]
  }
 ],
 "metadata": {
  "kernelspec": {
   "display_name": "8dc00",
   "language": "python",
   "name": "python3"
  },
  "language_info": {
   "codemirror_mode": {
    "name": "ipython",
    "version": 3
   },
   "file_extension": ".py",
   "mimetype": "text/x-python",
   "name": "python",
   "nbconvert_exporter": "python",
   "pygments_lexer": "ipython3",
   "version": "3.8.19"
  }
 },
 "nbformat": 4,
 "nbformat_minor": 2
}
