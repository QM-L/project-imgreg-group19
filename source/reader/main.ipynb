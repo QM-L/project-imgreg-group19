{
 "cells": [
  {
   "cell_type": "code",
   "execution_count": 1,
   "metadata": {},
   "outputs": [],
   "source": [
    "### import and initialize modules ###\n",
    "%load_ext autoreload\n",
    "%autoreload 2\n",
    "\n",
    "%matplotlib inline\n",
    "# ! if you want to use this, run  'conda install -c conda-forge scalene' for your conda env\n",
    "#%load_ext scalene \n",
    "# ! Or 'conda install -c conda-forge line_proimgr' for this one.\n",
    "%load_ext line_profiler\n",
    "import sys\n",
    "import os\n",
    "import time\n",
    "from itertools import combinations\n",
    "import numpy as np\n",
    "import matplotlib.pyplot as plt\n",
    "import pandas as pd # You might have to install this into your environment\n",
    "import scipy.stats as stats \n",
    "\n",
    "sys.path.append(\"../code\")\n",
    "from registration import joint_histogram\n",
    "from registration_project import rigid_reg_cc_demo, affine_reg_cc_demo, affine_reg_mi_demo, absolute_error_histograms\n"
   ]
  },
  {
   "cell_type": "code",
   "execution_count": 2,
   "metadata": {},
   "outputs": [
    {
     "name": "stdout",
     "output_type": "stream",
     "text": [
      "[('1_1_t1.tif', '1_1_t1_d.tif'), ('1_1_t1.tif', '1_1_t2.tif'), ('1_1_t1_d.tif', '1_1_t2.tif'), ('1_2_t1.tif', '1_2_t1_d.tif'), ('1_2_t1.tif', '1_2_t2.tif'), ('1_2_t1_d.tif', '1_2_t2.tif'), ('1_3_t1.tif', '1_3_t1_d.tif'), ('1_3_t1.tif', '1_3_t2.tif'), ('1_3_t1_d.tif', '1_3_t2.tif'), ('2_1_t1.tif', '2_1_t1_d.tif'), ('2_1_t1.tif', '2_1_t2.tif'), ('2_1_t1_d.tif', '2_1_t2.tif'), ('2_2_t1.tif', '2_2_t1_d.tif'), ('2_2_t1.tif', '2_2_t2.tif'), ('2_2_t1_d.tif', '2_2_t2.tif'), ('2_3_t1.tif', '2_3_t1_d.tif'), ('2_3_t1.tif', '2_3_t2.tif'), ('2_3_t1_d.tif', '2_3_t2.tif'), ('3_1_t1.tif', '3_1_t1_d.tif'), ('3_1_t1.tif', '3_1_t2.tif'), ('3_1_t1_d.tif', '3_1_t2.tif'), ('3_2_t1.tif', '3_2_t1_d.tif'), ('3_2_t1.tif', '3_2_t2.tif'), ('3_2_t1_d.tif', '3_2_t2.tif'), ('3_3_t1.tif', '3_3_t1_d.tif'), ('3_3_t1.tif', '3_3_t2.tif'), ('3_3_t1_d.tif', '3_3_t2.tif')]\n"
     ]
    }
   ],
   "source": [
    "### import and read data ###\n",
    "path = '..\\data\\image_data'\n",
    "\n",
    "# Get the list of images\n",
    "images = os.listdir(path)\n",
    "images.sort()\n",
    "\n",
    "image_pairs = []\n",
    "grouped_images = {}\n",
    "\n",
    "# Group images by their first three characters (I don't know if this is best)\n",
    "for img in images:\n",
    "    start = img[:3]  # Get the first three characters of the img name\n",
    "    if start in grouped_images:\n",
    "        grouped_images[start].append(img)\n",
    "    else:\n",
    "        grouped_images[start] = [img]\n",
    "\n",
    "# Create pairs\n",
    "for key, group in grouped_images.items():\n",
    "    # Sort the group (optional, to maintain a consistent order)\n",
    "    group.sort()\n",
    "    \n",
    "    # Create all possible pairs from the group\n",
    "    if len(group) > 1:\n",
    "        image_pairs.extend(list(combinations(group, 2)))\n",
    "\n",
    "print(image_pairs)"
   ]
  },
  {
   "cell_type": "code",
   "execution_count": 3,
   "metadata": {},
   "outputs": [
    {
     "name": "stdout",
     "output_type": "stream",
     "text": [
      "Final similarity of ca. 0.99974597366736\n",
      "Final similarity of ca. 0.9299874408059887\n",
      "Final similarity of ca. 0.8158496904868564\n",
      "Final similarity of ca. 0.6727038994847923\n",
      "Final similarity of ca. 0.8158496904868564\n",
      "Final similarity of ca. 0.6727038994847923\n",
      "Final similarity of ca. 0.7223721250966625\n",
      "Final similarity of ca. 0.7692302930448711\n",
      "Final similarity of ca. 0.7644254602053988\n",
      "Final similarity of ca. 0.7934528997524137\n",
      "Final similarity of ca. 0.7179298629280455\n",
      "Final similarity of ca. 0.7211517476784841\n",
      "Final similarity of ca. 0.6563739379702419\n",
      "Final similarity of ca. 0.6541619845166355\n",
      "Final similarity of ca. 0.6083816654109393\n",
      "Final similarity of ca. 0.6077855557592253\n",
      "Final similarity of ca. 0.6845896851000638\n",
      "Final similarity of ca. 0.6688325690722197\n",
      "Final similarity of ca. 0.6932125302900258\n",
      "Final similarity of ca. 0.699593122654073\n",
      "[0.31888532638549805, 0, 0, 0, 0, 0, 0, 0, 0, 0]\n",
      "[0, 17.577240705490112, 18.077383756637573, 18.166017055511475, 17.7187340259552, 17.691286087036133, 15.435348749160767, 16.279582262039185, 15.369544744491577, 15.625749826431274]\n",
      "[0.31888532638549805, 0.8934180736541748, 1.063065528869629, 1.3010425567626953, 0.35755228996276855, 0.31675219535827637, 0.29999637603759766, 0.34299516677856445, 0.5886125564575195, 0.2196826934814453]\n",
      "[17.335665941238403, 17.577240705490112, 18.077383756637573, 18.166017055511475, 17.7187340259552, 17.691286087036133, 15.435348749160767, 16.279582262039185, 15.369544744491577, 15.625749826431274]\n",
      "[[0.00036111497998936315, 1, 1, 0, 0, 0.00036111497998936315, 0.00036111497998936315], array([0.00692141, 1.00692141, 1.00692141, 0.00692141, 0.00692141,\n",
      "       0.00692141, 0.00692141]), [-0.06497149238103161, 1, 1, 0, 0, -0.06497149238103161, -0.06497149238103161], array([-0.04242218,  0.95757782,  0.95757782, -0.04242218, -0.04242218,\n",
      "       -0.04242218, -0.04242218]), [-0.06497149238103161, 1, 1, 0, 0, -0.06497149238103161, -0.06497149238103161], array([-0.04242218,  0.95757782,  0.95757782, -0.04242218, -0.04242218,\n",
      "       -0.04242218, -0.04242218]), [-0.034845373145842684, 1, 1, 0, 0, -0.034845373145842684, -0.034845373145842684], array([-0.04357601,  0.95642399,  0.95642399, -0.04357601, -0.04357601,\n",
      "       -0.04357601, -0.04357601]), [-0.026649189901329917, 1, 1, 0, 0, -0.026649189901329917, -0.026649189901329917], array([-0.01876488,  0.98123512,  0.98123512, -0.01876488, -0.01876488,\n",
      "       -0.01876488, -0.01876488]), [0.008074435200926433, 1, 1, 0, 0, 0.008074435200926433, 0.008074435200926433], array([0.00834664, 1.00834664, 1.00834664, 0.00834664, 0.00834664,\n",
      "       0.00834664, 0.00834664]), [0.005651411201759271, 1, 1, 0, 0, 0.005651411201759271, 0.005651411201759271], array([0.00349911, 1.00349911, 1.00349911, 0.00349911, 0.00349911,\n",
      "       0.00349911, 0.00349911]), [0.009105657183746008, 1, 1, 0, 0, 0.009105657183746008, 0.009105657183746008], array([0.00631112, 1.00631112, 1.00631112, 0.00631112, 0.00631112,\n",
      "       0.00631112, 0.00631112]), [-0.029540405283399074, 1, 1, 0, 0, -0.029540405283399074, -0.029540405283399074], array([-0.01812453,  0.98187547,  0.98187547, -0.01812453, -0.01812453,\n",
      "       -0.01812453, -0.01812453]), [-0.0060790821097436165, 1, 1, 0, 0, -0.0060790821097436165, -0.0060790821097436165], array([-0.00844479,  0.99155521,  0.99155521, -0.00844479, -0.00844479,\n",
      "       -0.00844479, -0.00844479])]\n"
     ]
    }
   ],
   "source": [
    "### Registration ###\n",
    "# input:\n",
    "# image_pairs\n",
    "# general learning rate\n",
    "# iteration limit\n",
    "\n",
    "# output: \n",
    "# [list] computation times per formula: rigid_cc_time, affine_cc_time, affine_mi_time --> no processing is done with this, these are nice-to-haves\n",
    "# [list] computation times per type of registration: time_rigid, time_affine, time_rigid_all, time_affine_all\n",
    "# [list] affine transformation matrices per registration: transformations (rot, scalex, scaley, shearx, sheary, translatex, translatey)\n",
    "\n",
    "time_rigid = []\n",
    "time_affine = []\n",
    "time_rigid_all = []\n",
    "time_affine_all = []\n",
    "transformations = []\n",
    "\n",
    "for img1,img2 in image_pairs[:10]:\n",
    "    # get image data\n",
    "    img1 = os.path.join('..\\data\\image_data',img1)\n",
    "    img2 = os.path.join('..\\data\\image_data',img2)\n",
    "    \n",
    "    ########## decision\n",
    "    I = plt.imread(img1)\n",
    "    J = plt.imread(img2)   \n",
    "    I = I.reshape((I.shape[0]*I.shape[1],1)).astype(float)\n",
    "    J = J.reshape((J.shape[0]*J.shape[1],1)).astype(float)\n",
    "\n",
    "    # if the range is not specified use the min and max values of the\n",
    "    # inputs\n",
    "    minmax_range = np.array([min(min(I),min(J)), max(max(I),max(J))])\n",
    "\n",
    "    # this will normalize the inputs to the [0 1] range\n",
    "    I = (I-minmax_range[0]) / (minmax_range[1]-minmax_range[0])\n",
    "    J = (J-minmax_range[0]) / (minmax_range[1]-minmax_range[0])\n",
    "\n",
    "    # and this will make them integers in the [0 (num_bins-1)] range\n",
    "    I = np.round(I*(16-1)).astype(int)\n",
    "    J = np.round(J*(16-1)).astype(int)\n",
    "\n",
    "    AEH = absolute_error_histograms(I, J,imshow=False)\n",
    "    affine = True if AEH > 0.9 else False\n",
    "    rigid = not affine\n",
    "\n",
    "    ####### rigid_reg_cc_demo\n",
    "    s = time.time()\n",
    "    res = rigid_reg_cc_demo(img1,img2,False)\n",
    "    e = time.time()\n",
    "    timed = e - s\n",
    "\n",
    "    # change transformation into form (rot, scalex, scaley, shearx, sheary, translatex, translatey)\n",
    "    res = [res[0],1,1,0,0,res[1],res[2]]\n",
    "\n",
    "    time_rigid_all.append(timed)\n",
    "    if rigid:\n",
    "        transformations.append(res)\n",
    "        time_rigid.append(timed)\n",
    "    else:\n",
    "        time_rigid.append(0)\n",
    "\n",
    "\n",
    "    ######## affine_reg_cc_demo\n",
    "    s = time.time()\n",
    "    res = affine_reg_cc_demo(img1,img2,False)\n",
    "    e = time.time()\n",
    "    timed = e - s\n",
    "\n",
    "    time_affine_all.append(timed)\n",
    "    if affine:\n",
    "        transformations.append(res)\n",
    "        time_affine.append(timed)\n",
    "    else:\n",
    "        time_affine.append(0)\n",
    "\n",
    "\n",
    "print(time_rigid)\n",
    "print(time_affine)\n",
    "print(time_rigid_all)\n",
    "print(time_affine_all)\n",
    "print(transformations)"
   ]
  },
  {
   "cell_type": "code",
   "execution_count": 18,
   "metadata": {},
   "outputs": [],
   "source": [
    "# Test variables to test statistical analysis(assume dataset of 10)\n",
    "time_rigid = [64098,23249,0,0,57892,0,43897,0,0,0]\n",
    "time_affine = [0,0,98022,78923,0,298200,0,89023,67239,29870]\n",
    "time_rigid_all = [64098,23249,24798,58302,57892,42309,43897,28342,8902,78230]\n",
    "time_affine_all = [78934,57832,98022,78923,78923,298200,83450,89023,67239,29870]\n",
    "transformations = [[35,2.5,1.1,0.5,1,3,2],[12,1,2,1.6,1.1,0.3,4],[4,1.9,2.1,4,8,0,7],[2,1.2,1.4,2,3,1.5,1],[60,2.3,1.9,1.3,0.4,2,0],[34,1.4,2.2,6,3,0.4,0],[5,1,4.2,1.8,1.2,0.5,1.1],[0,2,1.2,0.3,0.1,1,1.7],[1,1,2.1,0.8,0.2,2,4],[9,1,1.2,0.8,0.2,2,2]]"
   ]
  },
  {
   "cell_type": "code",
   "execution_count": 4,
   "metadata": {},
   "outputs": [
    {
     "name": "stdout",
     "output_type": "stream",
     "text": [
      "Variance of comp. time for all rigid transformations:  0.13019645379409953\n",
      "Variance of comp. time for all affine transformations:  1.142243064297795\n",
      "Variance of comp. time for the chosen transformations:  25.815011627073794\n",
      "t test affine_all>rigid_all:  Ttest_indResult(statistic=43.50292071077294, pvalue=5.447723450888477e-20)\n",
      "t test affine_all>aggr:  Ttest_indResult(statistic=0.9832429103819426, pvalue=0.17457545061307583)\n"
     ]
    },
    {
     "data": {
      "image/png": "[encoded data removed]",
      "text/plain": [
       "<Figure size 640x480 with 1 Axes>"
      ]
     },
     "metadata": {},
     "output_type": "display_data"
    }
   ],
   "source": [
    "### Statistical analysis ###\n",
    "# input: list of computation times per formula: rigid_cc_time, affine_cc_time, affine_mi_time --> no processing is done with this, these are nice-to-haves\n",
    "# input: list of computation times per type of registration: time_rigid, time_affine, time_rigid_all, time_affine_all\n",
    "# input: list of affine transformation matrices per registration: transformations (rot, scalex, scaley, shearx, sheary, translatex, translatey)\n",
    "\n",
    "# output: significance testing between the types of registration\n",
    "# output: power analysis of significance testing\n",
    "# output: Boxplots for the computation time data spread\n",
    "\n",
    "\n",
    "aggr_rigid_affine = [time_rigid[i]+time_affine[i] for i in range(len(time_rigid))] # List containing all tests, containing the time using our chosen method\n",
    "data = np.hstack((time_rigid, time_affine, aggr_rigid_affine, time_rigid_all, time_affine_all))\n",
    "df_time = pd.DataFrame({'T_rigid': time_rigid,\n",
    "                        'T_affine': time_affine,\n",
    "                        'T_aggr_all': aggr_rigid_affine,\n",
    "                        'T_rigid_all': time_rigid_all,\n",
    "                        'T_affine_all': time_affine_all})\n",
    "box = df_time.boxplot(grid=True)\n",
    "box.plot(figsize=(1,3), title=\"Boxplot of computation time of rigid and affine transformation registration\")\n",
    "\n",
    "# Test for equal variance\n",
    "print(\"Variance of comp. time for all rigid transformations: \",np.var(a=df_time['T_rigid_all']))\n",
    "print(\"Variance of comp. time for all affine transformations: \",np.var(a=df_time['T_affine_all']))\n",
    "print(\"Variance of comp. time for the chosen transformations: \",np.var(a=df_time['T_aggr_all']))\n",
    "     \n",
    "\n",
    "# Variance vary less than factor 4:\n",
    "    # Test if the computation time to use affine transformation compared to rigid transformation is longer\n",
    "print(\"t test affine_all>rigid_all: \",stats.ttest_ind(a=df_time['T_affine_all'],b=df_time['T_rigid_all'], equal_var=True,alternative='greater')) \n",
    "\n",
    "    # Test if the aggregated computation time is shorter than all affine registration  \n",
    "print(\"t test affine_all>aggr: \",stats.ttest_ind(a=df_time['T_affine_all'],b=df_time['T_aggr_all'], equal_var=False,alternative='greater'))"
   ]
  },
  {
   "cell_type": "code",
   "execution_count": 13,
   "metadata": {},
   "outputs": [
    {
     "name": "stdout",
     "output_type": "stream",
     "text": [
      "[0, 17.577240705490112, 18.077383756637573, 18.166017055511475, 17.7187340259552, 17.691286087036133, 15.435348749160767, 16.279582262039185, 15.369544744491577, 15.625749826431274]\n",
      "(20, 7)\n",
      "Mean of all scaling:  0.9925661860587803\n"
     ]
    },
    {
     "ename": "IndexError",
     "evalue": "boolean index did not match indexed array along dimension 0; dimension is 20 but corresponding boolean dimension is 10",
     "output_type": "error",
     "traceback": [
      "\u001b[1;31m---------------------------------------------------------------------------\u001b[0m",
      "\u001b[1;31mIndexError\u001b[0m                                Traceback (most recent call last)",
      "Cell \u001b[1;32mIn[13], line 15\u001b[0m\n\u001b[0;32m     12\u001b[0m \u001b[38;5;66;03m# Basic statistics of the average shear and scaling present \u001b[39;00m\n\u001b[0;32m     13\u001b[0m     \u001b[38;5;66;03m# Scaling\u001b[39;00m\n\u001b[0;32m     14\u001b[0m \u001b[38;5;28mprint\u001b[39m(\u001b[38;5;124m\"\u001b[39m\u001b[38;5;124mMean of all scaling: \u001b[39m\u001b[38;5;124m\"\u001b[39m,np\u001b[38;5;241m.\u001b[39mmean(np\u001b[38;5;241m.\u001b[39marray(transformations)\u001b[38;5;241m.\u001b[39mreshape(\u001b[38;5;241m20\u001b[39m,\u001b[38;5;241m7\u001b[39m)[:,\u001b[38;5;241m1\u001b[39m:\u001b[38;5;241m3\u001b[39m]))\n\u001b[1;32m---> 15\u001b[0m \u001b[38;5;28mprint\u001b[39m(\u001b[38;5;124m\"\u001b[39m\u001b[38;5;124mMean of scaling of rigid: \u001b[39m\u001b[38;5;124m\"\u001b[39m, np\u001b[38;5;241m.\u001b[39mmean(\u001b[43mnp\u001b[49m\u001b[38;5;241;43m.\u001b[39;49m\u001b[43marray\u001b[49m\u001b[43m(\u001b[49m\u001b[43mtransformations\u001b[49m\u001b[43m)\u001b[49m\u001b[38;5;241;43m.\u001b[39;49m\u001b[43mreshape\u001b[49m\u001b[43m(\u001b[49m\u001b[38;5;241;43m20\u001b[39;49m\u001b[43m,\u001b[49m\u001b[38;5;241;43m7\u001b[39;49m\u001b[43m)\u001b[49m\u001b[43m[\u001b[49m\u001b[43mrigid_decision\u001b[49m\u001b[43m,\u001b[49m\u001b[38;5;241;43m1\u001b[39;49m\u001b[43m:\u001b[49m\u001b[38;5;241;43m3\u001b[39;49m\u001b[43m]\u001b[49m))\n\u001b[0;32m     16\u001b[0m \u001b[38;5;28mprint\u001b[39m(\u001b[38;5;124m\"\u001b[39m\u001b[38;5;124mMean of scaling of affine: \u001b[39m\u001b[38;5;124m\"\u001b[39m, np\u001b[38;5;241m.\u001b[39mmean(np\u001b[38;5;241m.\u001b[39marray(transformations)\u001b[38;5;241m.\u001b[39mreshape(\u001b[38;5;28mlen\u001b[39m(transformations),\u001b[38;5;241m7\u001b[39m)[\u001b[38;5;241m~\u001b[39mrigid_decision,\u001b[38;5;241m1\u001b[39m:\u001b[38;5;241m3\u001b[39m]))\n\u001b[0;32m     18\u001b[0m \u001b[38;5;28mprint\u001b[39m(\u001b[38;5;124m\"\u001b[39m\u001b[38;5;124mVariance of all scaling: \u001b[39m\u001b[38;5;124m\"\u001b[39m,np\u001b[38;5;241m.\u001b[39mvar(np\u001b[38;5;241m.\u001b[39marray(transformations)\u001b[38;5;241m.\u001b[39mreshape(\u001b[38;5;28mlen\u001b[39m(transformations),\u001b[38;5;241m7\u001b[39m)[:,\u001b[38;5;241m1\u001b[39m:\u001b[38;5;241m3\u001b[39m]))\n",
      "\u001b[1;31mIndexError\u001b[0m: boolean index did not match indexed array along dimension 0; dimension is 20 but corresponding boolean dimension is 10"
     ]
    },
    {
     "data": {
      "image/png": "[encoded data removed]",
      "text/plain": [
       "<Figure size 500x500 with 1 Axes>"
      ]
     },
     "metadata": {},
     "output_type": "display_data"
    }
   ],
   "source": [
    "# See if our decision program is working well\n",
    "rigid_decision = np.array([True if time_rigid[i]>0 else False for i in range(len(time_rigid))]) # Records if rigid was chosen\n",
    "\n",
    "data2 = [rigid_decision]\n",
    "sum_affine = [transformations[i][1]+transformations[i][2]+transformations[i][3]+transformations[i][4] for i in range(len(transformations))]\n",
    "sum_affine = np.sum(np.array(sum_affine).reshape(10,2),axis=1)\n",
    "\n",
    "df_transform = pd.DataFrame({\"Decision\": rigid_decision,\n",
    "                             \"Sum_affine\": sum_affine})\n",
    "box2 = df_transform.plot.box(column=\"Sum_affine\",by=\"Decision\",figsize=(5,5)) # Boxplot that sums the affine parameters and groups them by our decision\n",
    "\n",
    "# Basic statistics of the average shear and scaling present \n",
    "    # Scaling\n",
    "print(\"Mean of all scaling: \",np.mean(np.array(transformations).reshape(len(transformations),7)[:,1:3]))\n",
    "print(\"Mean of scaling of rigid: \", np.mean(np.array(transformations).reshape(len(transformations),7)[rigid_decision,1:3]))\n",
    "print(\"Mean of scaling of affine: \", np.mean(np.array(transformations).reshape(len(transformations),7)[~rigid_decision,1:3]))\n",
    "\n",
    "print(\"Variance of all scaling: \",np.var(np.array(transformations).reshape(len(transformations),7)[:,1:3]))\n",
    "print(\"Variance of scaling of rigid: \", np.var(np.array(transformations).reshape(len(transformations),7)[rigid_decision,1:3]))\n",
    "print(\"Variance of scaling of affine: \", np.var(np.array(transformations).reshape(len(transformations),7)[~rigid_decision,1:3]))\n",
    "\n",
    "    #Shear\n",
    "print(\"Mean of all shear: \",np.mean(np.array(transformations).reshape(len(transformations),7)[:,3:5]))\n",
    "print(\"Mean of shear of rigid: \", np.mean(np.array(transformations).reshape(len(transformations),7)[rigid_decision,3:5]))\n",
    "print(\"Mean of shear of affine: \", np.mean(np.array(transformations).reshape(len(transformations),7)[~rigid_decision,3:5]))\n",
    "\n",
    "print(\"Variance of all shear: \",np.var(np.array(transformations).reshape(len(transformations),7)[:,3:5]))\n",
    "print(\"Variance of shear of rigid: \", np.var(np.array(transformations).reshape(len(transformations),7)[rigid_decision,3:5]))\n",
    "print(\"Variance of shear of affine: \", np.var(np.array(transformations).reshape(len(transformations),7)[~rigid_decision,3:5]))"
   ]
  }
 ],
 "metadata": {
  "kernelspec": {
   "display_name": "8dc00",
   "language": "python",
   "name": "python3"
  },
  "language_info": {
   "codemirror_mode": {
    "name": "ipython",
    "version": 3
   },
   "file_extension": ".py",
   "mimetype": "text/x-python",
   "name": "python",
   "nbconvert_exporter": "python",
   "pygments_lexer": "ipython3",
   "version": "3.8.19"
  }
 },
 "nbformat": 4,
 "nbformat_minor": 2
}
