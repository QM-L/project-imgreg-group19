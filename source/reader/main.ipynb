{
 "cells": [
  {
   "cell_type": "code",
   "execution_count": 9,
   "metadata": {},
   "outputs": [
    {
     "name": "stdout",
     "output_type": "stream",
     "text": [
      "The autoreload extension is already loaded. To reload it, use:\n",
      "  %reload_ext autoreload\n",
      "The line_profiler extension is already loaded. To reload it, use:\n",
      "  %reload_ext line_profiler\n"
     ]
    }
   ],
   "source": [
    "### import and initialize modules ###\n",
    "%load_ext autoreload\n",
    "%autoreload 2\n",
    "\n",
    "%matplotlib inline\n",
    "# ! if you want to use this, run  'conda install -c conda-forge scalene' for your conda env\n",
    "#%load_ext scalene \n",
    "# ! Or 'conda install -c conda-forge line_proimgr' for this one.\n",
    "%load_ext line_profiler\n",
    "import sys\n",
    "import os\n",
    "import time\n",
    "from itertools import combinations\n",
    "import numpy as np\n",
    "import matplotlib.pyplot as plt\n",
    "import pandas as pd # You might have to install this into your environment\n",
    "import scipy.stats as stats \n",
    "\n",
    "sys.path.append(\"../code\")\n",
    "from registration import joint_histogram\n",
    "from registration_project import rigid_reg_cc_demo, affine_reg_cc_demo, affine_reg_mi_demo, absolute_error_histograms\n"
   ]
  },
  {
   "cell_type": "code",
   "execution_count": 3,
   "metadata": {},
   "outputs": [
    {
     "name": "stdout",
     "output_type": "stream",
     "text": [
      "[('1_1_t1.tif', '1_1_t1_d.tif'), ('1_1_t1.tif', '1_1_t2.tif'), ('1_1_t1_d.tif', '1_1_t2.tif'), ('1_2_t1.tif', '1_2_t1_d.tif'), ('1_2_t1.tif', '1_2_t2.tif'), ('1_2_t1_d.tif', '1_2_t2.tif'), ('1_3_t1.tif', '1_3_t1_d.tif'), ('1_3_t1.tif', '1_3_t2.tif'), ('1_3_t1_d.tif', '1_3_t2.tif'), ('2_1_t1.tif', '2_1_t1_d.tif'), ('2_1_t1.tif', '2_1_t2.tif'), ('2_1_t1_d.tif', '2_1_t2.tif'), ('2_2_t1.tif', '2_2_t1_d.tif'), ('2_2_t1.tif', '2_2_t2.tif'), ('2_2_t1_d.tif', '2_2_t2.tif'), ('2_3_t1.tif', '2_3_t1_d.tif'), ('2_3_t1.tif', '2_3_t2.tif'), ('2_3_t1_d.tif', '2_3_t2.tif'), ('3_1_t1.tif', '3_1_t1_d.tif'), ('3_1_t1.tif', '3_1_t2.tif'), ('3_1_t1_d.tif', '3_1_t2.tif'), ('3_2_t1.tif', '3_2_t1_d.tif'), ('3_2_t1.tif', '3_2_t2.tif'), ('3_2_t1_d.tif', '3_2_t2.tif'), ('3_3_t1.tif', '3_3_t1_d.tif'), ('3_3_t1.tif', '3_3_t2.tif'), ('3_3_t1_d.tif', '3_3_t2.tif')]\n"
     ]
    }
   ],
   "source": [
    "### import and read data ###\n",
    "path = '..\\data\\image_data'\n",
    "\n",
    "# Get the list of images\n",
    "images = os.listdir(path)\n",
    "images.sort()\n",
    "\n",
    "image_pairs = []\n",
    "grouped_images = {}\n",
    "\n",
    "# Group images by their first three characters (I don't know if this is best)\n",
    "for img in images:\n",
    "    start = img[:3]  # Get the first three characters of the img name\n",
    "    if start in grouped_images:\n",
    "        grouped_images[start].append(img)\n",
    "    else:\n",
    "        grouped_images[start] = [img]\n",
    "\n",
    "# Create pairs\n",
    "for key, group in grouped_images.items():\n",
    "    # Sort the group (optional, to maintain a consistent order)\n",
    "    group.sort()\n",
    "    \n",
    "    # Create all possible pairs from the group\n",
    "    if len(group) > 1:\n",
    "        image_pairs.extend(list(combinations(group, 2)))\n",
    "\n",
    "print(image_pairs)"
   ]
  },
  {
   "cell_type": "code",
   "execution_count": 20,
   "metadata": {},
   "outputs": [
    {
     "name": "stdout",
     "output_type": "stream",
     "text": [
      "Final similarity of ca. 0.999745973667367\n",
      "Final similarity of ca. 0.9299874408059998\n",
      "Final similarity of ca. 0.8158496904868576\n",
      "Final similarity of ca. 0.6727038994847933\n",
      "Final similarity of ca. 0.8158496904868576\n",
      "Final similarity of ca. 0.6727038994847933\n",
      "Final similarity of ca. 0.722372125096662\n",
      "Final similarity of ca. 0.7692302930448702\n",
      "Final similarity of ca. 0.764425460205394\n"
     ]
    }
   ],
   "source": [
    "### Registration ###\n",
    "# input:\n",
    "# image_pairs\n",
    "# general learning rate\n",
    "# iteration limit\n",
    "\n",
    "# output: \n",
    "# [list] computation times per formula: rigid_cc_time, affine_cc_time, affine_mi_time --> no processing is done with this, these are nice-to-haves\n",
    "# [list] computation times per type of registration: time_rigid, time_affine, time_rigid_all, time_affine_all\n",
    "# [list] affine transformation matrices per registration: transformations (rot, scalex, scaley, shearx, sheary, translatex, translatey)\n",
    "\n",
    "time_rigid = []\n",
    "time_affine = []\n",
    "time_rigid_all = []\n",
    "time_affine_all = []\n",
    "transformations = []\n",
    "\n",
    "for img1,img2 in image_pairs[:10]:\n",
    "    # get image data\n",
    "    img1 = os.path.join('..\\data\\image_data',img1)\n",
    "    img2 = os.path.join('..\\data\\image_data',img2)\n",
    "    \n",
    "    ########## decision\n",
    "    I = plt.imread(img1)\n",
    "    J = plt.imread(img2)   \n",
    "    I = I.reshape((I.shape[0]*I.shape[1],1)).astype(float)\n",
    "    J = J.reshape((J.shape[0]*J.shape[1],1)).astype(float)\n",
    "\n",
    "    # if the range is not specified use the min and max values of the\n",
    "    # inputs\n",
    "    minmax_range = np.array([min(min(I),min(J)), max(max(I),max(J))])\n",
    "\n",
    "    # this will normalize the inputs to the [0 1] range\n",
    "    I = (I-minmax_range[0]) / (minmax_range[1]-minmax_range[0])\n",
    "    J = (J-minmax_range[0]) / (minmax_range[1]-minmax_range[0])\n",
    "\n",
    "    # and this will make them integers in the [0 (num_bins-1)] range\n",
    "    I = np.round(I*(16-1)).astype(int)\n",
    "    J = np.round(J*(16-1)).astype(int)\n",
    "\n",
    "    AEH = absolute_error_histograms(I, J,imshow=False)\n",
    "    affine = True if AEH > 0.9 else False\n",
    "    rigid = not affine\n",
    "\n",
    "    ####### rigid_reg_cc_demo\n",
    "    s = time.time()\n",
    "    res = rigid_reg_cc_demo(img1,img2,False)\n",
    "    e = time.time()\n",
    "    timed = e - s\n",
    "\n",
    "    # change transformation into form (rot, scalex, scaley, shearx, sheary, translatex, translatey)\n",
    "    res = [res[0],1,1,0,0,res[1],res[2]]\n",
    "\n",
    "    time_rigid_all.append(timed)\n",
    "    if rigid:\n",
    "        transformations.append(res)\n",
    "        time_rigid.append(timed)\n",
    "    else:\n",
    "        time_rigid.append(0)\n",
    "\n",
    "\n",
    "    ######## affine_reg_cc_demo\n",
    "    s = time.time()\n",
    "    res = affine_reg_cc_demo(img1,img2,False)\n",
    "    e = time.time()\n",
    "    timed = e - s\n",
    "\n",
    "    time_affine_all.append(timed)\n",
    "    if affine:\n",
    "        transformations.append(res)\n",
    "        time_affine.append(timed)\n",
    "    else:\n",
    "        time_affine.append(0)\n",
    "\n",
    "\n",
    "print(time_rigid)\n",
    "print(time_affine)\n",
    "print(time_rigid_all)\n",
    "print(time_affine_all)\n",
    "print(transformations)"
   ]
  },
  {
   "cell_type": "code",
   "execution_count": 18,
   "metadata": {},
   "outputs": [],
   "source": [
    "# Test variables to test statistical analysis(assume dataset of 10)\n",
    "time_rigid = [64098,23249,0,0,57892,0,43897,0,0,0]\n",
    "time_affine = [0,0,98022,78923,0,298200,0,89023,67239,29870]\n",
    "time_rigid_all = [64098,23249,24798,58302,57892,42309,43897,28342,8902,78230]\n",
    "time_affine_all = [78934,57832,98022,78923,78923,298200,83450,89023,67239,29870]\n",
    "transformations = [[35,2.5,1.1,0.5,1,3,2],[12,1,2,1.6,1.1,0.3,4],[4,1.9,2.1,4,8,0,7],[2,1.2,1.4,2,3,1.5,1],[60,2.3,1.9,1.3,0.4,2,0],[34,1.4,2.2,6,3,0.4,0],[5,1,4.2,1.8,1.2,0.5,1.1],[0,2,1.2,0.3,0.1,1,1.7],[1,1,2.1,0.8,0.2,2,4],[9,1,1.2,0.8,0.2,2,2]]"
   ]
  },
  {
   "cell_type": "code",
   "execution_count": 19,
   "metadata": {},
   "outputs": [
    {
     "name": "stdout",
     "output_type": "stream",
     "text": [
      "Variance of comp. time for all rigid transformations:  424242879.89\n",
      "Variance of comp. time for all affine transformations:  4862675666.639999\n",
      "Variance of comp. time for the chosen transformations:  5570605978.41\n",
      "t test affine_all>rigid_all:  Ttest_indResult(statistic=2.1883712672394346, pvalue=0.02103570283721172)\n",
      "t test affine_all>aggr:  Ttest_indResult(statistic=0.3230839013374063, pvalue=0.375177385807674)\n"
     ]
    },
    {
     "data": {
      "image/png": "[encoded data removed]",
      "text/plain": [
       "<Figure size 640x480 with 1 Axes>"
      ]
     },
     "metadata": {},
     "output_type": "display_data"
    }
   ],
   "source": [
    "### Statistical analysis ###\n",
    "# input: list of computation times per formula: rigid_cc_time, affine_cc_time, affine_mi_time --> no processing is done with this, these are nice-to-haves\n",
    "# input: list of computation times per type of registration: time_rigid, time_affine, time_rigid_all, time_affine_all\n",
    "# input: list of affine transformation matrices per registration: transformations (rot, scalex, scaley, shearx, sheary, translatex, translatey)\n",
    "\n",
    "# output: significance testing between the types of registration\n",
    "# output: power analysis of significance testing\n",
    "# output: Boxplots for the computation time data spread\n",
    "\n",
    "\n",
    "aggr_rigid_affine = [time_rigid[i]+time_affine[i] for i in range(len(time_rigid))] # List containing all tests, containing the time using our chosen method\n",
    "data = np.hstack((time_rigid, time_affine, aggr_rigid_affine, time_rigid_all, time_affine_all))\n",
    "df_time = pd.DataFrame({'T_rigid': time_rigid,\n",
    "                        'T_affine': time_affine,\n",
    "                        'T_aggr_all': aggr_rigid_affine,\n",
    "                        'T_rigid_all': time_rigid_all,\n",
    "                        'T_affine_all': time_affine_all})\n",
    "box = df_time.boxplot(grid=True)\n",
    "box.plot(figsize=(1,3), title=\"Boxplot of computation time of rigid and affine transformation registration\")\n",
    "\n",
    "# Test for equal variance\n",
    "print(\"Variance of comp. time for all rigid transformations: \",np.var(a=df_time['T_rigid_all']))\n",
    "print(\"Variance of comp. time for all affine transformations: \",np.var(a=df_time['T_affine_all']))\n",
    "print(\"Variance of comp. time for the chosen transformations: \",np.var(a=df_time['T_aggr_all']))\n",
    "     \n",
    "\n",
    "# Variance vary less than factor 4:\n",
    "    # Test if the computation time to use affine transformation compared to rigid transformation is longer\n",
    "print(\"t test affine_all>rigid_all: \",stats.ttest_ind(a=df_time['T_affine_all'],b=df_time['T_rigid_all'], equal_var=True,alternative='greater')) \n",
    "\n",
    "    # Test if the aggregated computation time is shorter than all affine registration  \n",
    "print(\"t test affine_all>aggr: \",stats.ttest_ind(a=df_time['T_affine_all'],b=df_time['T_aggr_all'], equal_var=True,alternative='greater'))"
   ]
  },
  {
   "cell_type": "code",
   "execution_count": 17,
   "metadata": {},
   "outputs": [
    {
     "ename": "ValueError",
     "evalue": "cannot reshape array of size 70 into shape (10,6)",
     "output_type": "error",
     "traceback": [
      "\u001b[1;31m---------------------------------------------------------------------------\u001b[0m",
      "\u001b[1;31mValueError\u001b[0m                                Traceback (most recent call last)",
      "Cell \u001b[1;32mIn[17], line 13\u001b[0m\n\u001b[0;32m      9\u001b[0m box2 \u001b[38;5;241m=\u001b[39m df_transform\u001b[38;5;241m.\u001b[39mplot\u001b[38;5;241m.\u001b[39mbox(column\u001b[38;5;241m=\u001b[39m\u001b[38;5;124m\"\u001b[39m\u001b[38;5;124mSum_affine\u001b[39m\u001b[38;5;124m\"\u001b[39m,by\u001b[38;5;241m=\u001b[39m\u001b[38;5;124m\"\u001b[39m\u001b[38;5;124mDecision\u001b[39m\u001b[38;5;124m\"\u001b[39m,figsize\u001b[38;5;241m=\u001b[39m(\u001b[38;5;241m5\u001b[39m,\u001b[38;5;241m5\u001b[39m)) \u001b[38;5;66;03m# Boxplot that sums the affine parameters and groups them by our decision\u001b[39;00m\n\u001b[0;32m     11\u001b[0m \u001b[38;5;66;03m# Basic statistics of the average shear and scaling present \u001b[39;00m\n\u001b[0;32m     12\u001b[0m     \u001b[38;5;66;03m# Scaling\u001b[39;00m\n\u001b[1;32m---> 13\u001b[0m \u001b[38;5;28mprint\u001b[39m(\u001b[38;5;124m\"\u001b[39m\u001b[38;5;124mMean of all scaling: \u001b[39m\u001b[38;5;124m\"\u001b[39m,np\u001b[38;5;241m.\u001b[39mmean(\u001b[43mnp\u001b[49m\u001b[38;5;241;43m.\u001b[39;49m\u001b[43marray\u001b[49m\u001b[43m(\u001b[49m\u001b[43mtransformations\u001b[49m\u001b[43m)\u001b[49m\u001b[38;5;241;43m.\u001b[39;49m\u001b[43mreshape\u001b[49m\u001b[43m(\u001b[49m\u001b[38;5;241;43m10\u001b[39;49m\u001b[43m,\u001b[49m\u001b[38;5;241;43m6\u001b[39;49m\u001b[43m)\u001b[49m[:,\u001b[38;5;241m1\u001b[39m:\u001b[38;5;241m3\u001b[39m]))\n\u001b[0;32m     14\u001b[0m \u001b[38;5;28mprint\u001b[39m(\u001b[38;5;124m\"\u001b[39m\u001b[38;5;124mMean of scaling of rigid: \u001b[39m\u001b[38;5;124m\"\u001b[39m, np\u001b[38;5;241m.\u001b[39mmean(np\u001b[38;5;241m.\u001b[39marray(transformations)\u001b[38;5;241m.\u001b[39mreshape(\u001b[38;5;241m10\u001b[39m,\u001b[38;5;241m6\u001b[39m)[rigid_decision,\u001b[38;5;241m1\u001b[39m:\u001b[38;5;241m3\u001b[39m]))\n\u001b[0;32m     15\u001b[0m \u001b[38;5;28mprint\u001b[39m(\u001b[38;5;124m\"\u001b[39m\u001b[38;5;124mMean of scaling of affine: \u001b[39m\u001b[38;5;124m\"\u001b[39m, np\u001b[38;5;241m.\u001b[39mmean(np\u001b[38;5;241m.\u001b[39marray(transformations)\u001b[38;5;241m.\u001b[39mreshape(\u001b[38;5;241m10\u001b[39m,\u001b[38;5;241m6\u001b[39m)[\u001b[38;5;241m~\u001b[39mrigid_decision,\u001b[38;5;241m1\u001b[39m:\u001b[38;5;241m3\u001b[39m]))\n",
      "\u001b[1;31mValueError\u001b[0m: cannot reshape array of size 70 into shape (10,6)"
     ]
    },
    {
     "data": {
      "image/png": "[encoded data removed]",
      "text/plain": [
       "<Figure size 500x500 with 1 Axes>"
      ]
     },
     "metadata": {},
     "output_type": "display_data"
    }
   ],
   "source": [
    "# See if our decision program is working well\n",
    "rigid_decision = np.array([True if time_rigid[i]>0 else False for i in range(len(time_rigid))]) # Records if rigid was chosen\n",
    "\n",
    "data2 = [rigid_decision]\n",
    "sum_affine = [transformations[i][1]+transformations[i][2]+transformations[i][3]+transformations[i][4] for i in range(len(transformations))]\n",
    "df_transform = pd.DataFrame({\"Decision\": rigid_decision,\n",
    "                             \"Sum_affine\": sum_affine})\n",
    "box2 = df_transform.plot.box(column=\"Sum_affine\",by=\"Decision\",figsize=(5,5)) # Boxplot that sums the affine parameters and groups them by our decision\n",
    "\n",
    "# Basic statistics of the average shear and scaling present \n",
    "    # Scaling\n",
    "print(\"Mean of all scaling: \",np.mean(np.array(transformations).reshape(10,6)[:,1:3]))\n",
    "print(\"Mean of scaling of rigid: \", np.mean(np.array(transformations).reshape(10,6)[rigid_decision,1:3]))\n",
    "print(\"Mean of scaling of affine: \", np.mean(np.array(transformations).reshape(10,6)[~rigid_decision,1:3]))\n",
    "\n",
    "print(\"Variance of all scaling: \",np.var(np.array(transformations).reshape(10,6)[:,1:3]))\n",
    "print(\"Variance of scaling of rigid: \", np.var(np.array(transformations).reshape(10,6)[rigid_decision,1:3]))\n",
    "print(\"Variance of scaling of affine: \", np.var(np.array(transformations).reshape(10,6)[~rigid_decision,1:3]))\n",
    "\n",
    "    #Shear\n",
    "print(\"Mean of all shear: \",np.mean(np.array(transformations).reshape(10,6)[:,3:5]))\n",
    "print(\"Mean of shear of rigid: \", np.mean(np.array(transformations).reshape(10,6)[rigid_decision,3:5]))\n",
    "print(\"Mean of shear of affine: \", np.mean(np.array(transformations).reshape(10,6)[~rigid_decision,3:5]))\n",
    "\n",
    "print(\"Variance of all shear: \",np.var(np.array(transformations).reshape(10,6)[:,3:5]))\n",
    "print(\"Variance of shear of rigid: \", np.var(np.array(transformations).reshape(10,6)[rigid_decision,3:5]))\n",
    "print(\"Variance of shear of affine: \", np.var(np.array(transformations).reshape(10,6)[~rigid_decision,3:5]))"
   ]
  }
 ],
 "metadata": {
  "kernelspec": {
   "display_name": "8dc00",
   "language": "python",
   "name": "python3"
  },
  "language_info": {
   "codemirror_mode": {
    "name": "ipython",
    "version": 3
   },
   "file_extension": ".py",
   "mimetype": "text/x-python",
   "name": "python",
   "nbconvert_exporter": "python",
   "pygments_lexer": "ipython3",
   "version": "3.8.19"
  }
 },
 "nbformat": 4,
 "nbformat_minor": 2
}
