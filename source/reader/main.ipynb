{
 "cells": [
  {
   "cell_type": "code",
   "execution_count": null,
   "metadata": {},
   "outputs": [],
   "source": [
    "### import and initialize modules ###\n",
    "%load_ext autoreload\n",
    "%autoreload 2\n",
    "\n",
    "%matplotlib inline\n",
    "# if you want to use this, run  'conda install -c conda-forge scalene' for your conda env\n",
    "%load_ext scalene \n",
    "\n",
    "import sys\n",
    "sys.path.append(\"../code\")\n",
    "import registration_util as util\n",
    "from registration_project import intensity_based_registration_demo, rigid_reg_cc_demo, affine_reg_cc_demo, affine_reg_mi_demo"
   ]
  },
  {
   "cell_type": "code",
   "execution_count": null,
   "metadata": {},
   "outputs": [],
   "source": [
    "### import and read data ###\n",
    "path = 'source\\data\\image_data'\n"
   ]
  },
  {
   "cell_type": "code",
   "execution_count": null,
   "metadata": {},
   "outputs": [],
   "source": [
    "### Registration ###"
   ]
  },
  {
   "cell_type": "code",
   "execution_count": null,
   "metadata": {},
   "outputs": [],
   "source": [
    "### Statistical analysis ###"
   ]
  }
 ],
 "metadata": {
  "language_info": {
   "name": "python"
  }
 },
 "nbformat": 4,
 "nbformat_minor": 2
}
